{
  "nbformat": 4,
  "nbformat_minor": 0,
  "metadata": {
    "colab": {
      "provenance": []
    },
    "kernelspec": {
      "name": "python3",
      "display_name": "Python 3"
    },
    "language_info": {
      "name": "python"
    }
  },
  "cells": [
    {
      "cell_type": "code",
      "execution_count": null,
      "metadata": {
        "colab": {
          "base_uri": "https://localhost:8080/"
        },
        "id": "a3gerZ_r_ADi",
        "outputId": "7cf6e554-974f-46c4-9c05-c5a9b2141a53"
      },
      "outputs": [
        {
          "output_type": "stream",
          "name": "stdout",
          "text": [
            "Mounted at /content/drive/\n"
          ]
        }
      ],
      "source": [
        "# Mount google drive\n",
        "from google.colab import drive\n",
        "drive.mount('/content/drive/')"
      ]
    },
    {
      "cell_type": "code",
      "source": [
        "# Install requirements\n",
        "!pip install -q fastapi==0.68.1\n",
        "!pip install -q python-multipart==0.0.5\n",
        "!pip install -q uvicorn==0.15.0\n",
        "!pip install -q nest-asyncio\n",
        "!pip install -q pyngrok"
      ],
      "metadata": {
        "colab": {
          "base_uri": "https://localhost:8080/"
        },
        "id": "_0ewtzbc_Yw2",
        "outputId": "828fb49e-1f2c-4022-ec07-249cfe0c9065"
      },
      "execution_count": null,
      "outputs": [
        {
          "output_type": "stream",
          "name": "stdout",
          "text": [
            "\u001b[2K     \u001b[90m━━━━━━━━━━━━━━━━━━━━━━━━━━━━━━━━━━━━━━━━\u001b[0m \u001b[32m52.3/52.3 kB\u001b[0m \u001b[31m1.2 MB/s\u001b[0m eta \u001b[36m0:00:00\u001b[0m\n",
            "\u001b[2K     \u001b[90m━━━━━━━━━━━━━━━━━━━━━━━━━━━━━━━━━━━━━━━━\u001b[0m \u001b[32m60.6/60.6 kB\u001b[0m \u001b[31m2.6 MB/s\u001b[0m eta \u001b[36m0:00:00\u001b[0m\n",
            "\u001b[2K     \u001b[90m━━━━━━━━━━━━━━━━━━━━━━━━━━━━━━━━━━━━━━━━\u001b[0m \u001b[32m3.1/3.1 MB\u001b[0m \u001b[31m12.9 MB/s\u001b[0m eta \u001b[36m0:00:00\u001b[0m\n",
            "\u001b[?25h  Preparing metadata (setup.py) ... \u001b[?25l\u001b[?25hdone\n",
            "  Building wheel for python-multipart (setup.py) ... \u001b[?25l\u001b[?25hdone\n",
            "\u001b[2K     \u001b[90m━━━━━━━━━━━━━━━━━━━━━━━━━━━━━━━━━━━━━━━━\u001b[0m \u001b[32m54.4/54.4 kB\u001b[0m \u001b[31m1.5 MB/s\u001b[0m eta \u001b[36m0:00:00\u001b[0m\n",
            "\u001b[2K     \u001b[90m━━━━━━━━━━━━━━━━━━━━━━━━━━━━━━━━━━━━━━━━\u001b[0m \u001b[32m58.3/58.3 kB\u001b[0m \u001b[31m5.1 MB/s\u001b[0m eta \u001b[36m0:00:00\u001b[0m\n",
            "\u001b[2K     \u001b[90m━━━━━━━━━━━━━━━━━━━━━━━━━━━━━━━━━━━━━━━\u001b[0m \u001b[32m681.2/681.2 kB\u001b[0m \u001b[31m6.5 MB/s\u001b[0m eta \u001b[36m0:00:00\u001b[0m\n",
            "\u001b[?25h  Preparing metadata (setup.py) ... \u001b[?25l\u001b[?25hdone\n",
            "  Building wheel for pyngrok (setup.py) ... \u001b[?25l\u001b[?25hdone\n"
          ]
        }
      ]
    },
    {
      "cell_type": "code",
      "source": [
        "# Store API keys as environment variable\n",
        "import os\n",
        "from getpass import getpass\n",
        "\n",
        "os.environ['NGROK_API_KEY'] = getpass('Enter ngrok api key: ')"
      ],
      "metadata": {
        "colab": {
          "base_uri": "https://localhost:8080/"
        },
        "id": "VdNuCQwoAV5a",
        "outputId": "3fb35340-03d1-4d74-dfc1-51aeafba4aa7"
      },
      "execution_count": null,
      "outputs": [
        {
          "name": "stdout",
          "output_type": "stream",
          "text": [
            "Enter ngrok api key: ··········\n"
          ]
        }
      ]
    },
    {
      "cell_type": "code",
      "source": [
        "# Add src path to system\n",
        "import sys\n",
        "sys.path.append(\"/content/drive/MyDrive/walmart_v1/ai/server\")"
      ],
      "metadata": {
        "id": "QkZmQ_xjBaX0"
      },
      "execution_count": null,
      "outputs": []
    },
    {
      "cell_type": "code",
      "source": [
        "from pyngrok import ngrok\n",
        "import nest_asyncio\n",
        "import uvicorn\n",
        "from app.main import app"
      ],
      "metadata": {
        "id": "S_0oyA1jBm9S"
      },
      "execution_count": null,
      "outputs": []
    },
    {
      "cell_type": "code",
      "source": [
        "# create tunnel\n",
        "ngrok.kill()\n",
        "public_url = ngrok.connect(8000)\n",
        "print(public_url)"
      ],
      "metadata": {
        "colab": {
          "base_uri": "https://localhost:8080/"
        },
        "id": "RMh8rsEkDD6N",
        "outputId": "bd42c6e7-4ace-4cd4-883b-21277d89a8fe"
      },
      "execution_count": null,
      "outputs": [
        {
          "output_type": "stream",
          "name": "stdout",
          "text": []
        },
        {
          "output_type": "stream",
          "name": "stderr",
          "text": [
            "WARNING:pyngrok.process.ngrok:t=2023-08-16T11:24:11+0000 lvl=warn msg=\"ngrok config file found at legacy location, move to XDG location\" xdg_path=/root/.config/ngrok/ngrok.yml legacy_path=/root/.ngrok2/ngrok.yml\n"
          ]
        },
        {
          "output_type": "stream",
          "name": "stdout",
          "text": [
            "NgrokTunnel: \"https://380c-34-125-154-166.ngrok.io\" -> \"http://localhost:8000\"\n"
          ]
        }
      ]
    },
    {
      "cell_type": "code",
      "source": [
        "# check tunnel\n",
        "!ps aux | grep ngrok"
      ],
      "metadata": {
        "colab": {
          "base_uri": "https://localhost:8080/"
        },
        "id": "LiMgOp5fFLNf",
        "outputId": "011049e0-d631-4a5a-a487-c74e45511388"
      },
      "execution_count": null,
      "outputs": [
        {
          "output_type": "stream",
          "name": "stdout",
          "text": [
            "root        7858  1.2  0.2 736620 27940 ?        Sl   11:24   0:00 /usr/local/lib/python3.10/dist-packages/pyngrok/bin/ngrok start --none --log=stdout\n",
            "root        7980  0.0  0.0   7372  3512 ?        S    11:24   0:00 /bin/bash -c ps aux | grep ngrok\n",
            "root        7982  0.0  0.0   6480  2344 ?        S    11:24   0:00 grep ngrok\n"
          ]
        }
      ]
    },
    {
      "cell_type": "code",
      "source": [
        "# run the FastAPI app using uvicorn\n",
        "nest_asyncio.apply()\n",
        "uvicorn.run(app, port=8000)"
      ],
      "metadata": {
        "colab": {
          "base_uri": "https://localhost:8080/"
        },
        "id": "Av5kOZlWFy9z",
        "outputId": "0c4660a4-14c8-478f-d4b8-cbb65394c8a0"
      },
      "execution_count": null,
      "outputs": [
        {
          "output_type": "stream",
          "name": "stderr",
          "text": [
            "INFO:     Started server process [329]\n",
            "INFO:uvicorn.error:Started server process [329]\n",
            "INFO:     Waiting for application startup.\n",
            "INFO:uvicorn.error:Waiting for application startup.\n",
            "INFO:     Application startup complete.\n",
            "INFO:uvicorn.error:Application startup complete.\n",
            "INFO:     Uvicorn running on http://127.0.0.1:8000 (Press CTRL+C to quit)\n",
            "INFO:uvicorn.error:Uvicorn running on http://127.0.0.1:8000 (Press CTRL+C to quit)\n"
          ]
        },
        {
          "output_type": "stream",
          "name": "stdout",
          "text": [
            "INFO:     106.216.126.7:0 - \"GET /start/user/d88f9792-04c7-4837-bfa0-b00fddd9d903 HTTP/1.1\" 200 OK\n",
            "INFO:     106.216.126.7:0 - \"GET /start/user/d88f9792-4837-bfa0-b00fddd9d903 HTTP/1.1\" 422 Unprocessable Entity\n",
            "INFO:     106.216.126.7:0 - \"GET /start/user/d88f9792-04c7-4837-bfa0-b00fddd9d903 HTTP/1.1\" 200 OK\n",
            "INFO:     106.216.126.7:0 - \"POST /start/user/d88f9792-04c7-4837-bfa0-b00fddd9d903/session/b71fd28b-1dc7-4488-8ec6-bad2cdc13a04 HTTP/1.1\" 404 Not Found\n",
            "INFO:     106.216.126.7:0 - \"POST /seed/user/d88f9792-04c7-4837-bfa0-b00fddd9d903/session/b71fd28b-1dc7-4488-8ec6-bad2cdc13a04 HTTP/1.1\" 200 OK\n",
            "INFO:     106.216.126.7:0 - \"POST /reply/user/d88f9792-04c7-4837-bfa0-b00fddd9d903/session/b71fd28b-1dc7-4488-8ec6-bad2cdc13a04 HTTP/1.1\" 200 OK\n",
            "INFO:     106.216.126.7:0 - \"POST /search HTTP/1.1\" 422 Unprocessable Entity\n",
            "INFO:     106.216.126.7:0 - \"POST /search HTTP/1.1\" 200 OK\n",
            "INFO:     106.216.126.7:0 - \"POST /ask/product/102230 HTTP/1.1\" 422 Unprocessable Entity\n",
            "INFO:     106.216.126.7:0 - \"POST /ask/product/102230 HTTP/1.1\" 200 OK\n",
            "INFO:     106.216.126.7:0 - \"GET /compare/product1/102230/product2/409821 HTTP/1.1\" 200 OK\n",
            "INFO:     106.216.126.7:0 - \"GET /review/product/102230/product2/409821 HTTP/1.1\" 404 Not Found\n",
            "INFO:     106.216.126.7:0 - \"GET /review/product/102230 HTTP/1.1\" 200 OK\n"
          ]
        },
        {
          "output_type": "stream",
          "name": "stderr",
          "text": [
            "INFO:     Shutting down\n",
            "INFO:uvicorn.error:Shutting down\n",
            "INFO:     Waiting for application shutdown.\n",
            "INFO:uvicorn.error:Waiting for application shutdown.\n",
            "INFO:     Application shutdown complete.\n",
            "INFO:uvicorn.error:Application shutdown complete.\n",
            "INFO:     Finished server process [329]\n",
            "INFO:uvicorn.error:Finished server process [329]\n"
          ]
        }
      ]
    },
    {
      "cell_type": "code",
      "source": [
        "# kill tunnel\n",
        "ngrok.disconnect(public_url=public_url)"
      ],
      "metadata": {
        "id": "9r1LqVEoHDTU"
      },
      "execution_count": null,
      "outputs": []
    },
    {
      "cell_type": "code",
      "source": [],
      "metadata": {
        "id": "jQFg11V-Ky2D"
      },
      "execution_count": null,
      "outputs": []
    }
  ]
}