{
  "nbformat": 4,
  "nbformat_minor": 0,
  "metadata": {
    "colab": {
      "provenance": []
    },
    "kernelspec": {
      "name": "python3",
      "display_name": "Python 3"
    },
    "language_info": {
      "name": "python"
    }
  },
  "cells": [
    {
      "cell_type": "code",
      "execution_count": 1,
      "metadata": {
        "colab": {
          "base_uri": "https://localhost:8080/"
        },
        "id": "a3gerZ_r_ADi",
        "outputId": "8b527776-d21f-4590-d7ff-b4a3f4327cb7"
      },
      "outputs": [
        {
          "output_type": "stream",
          "name": "stdout",
          "text": [
            "Drive already mounted at /content/drive/; to attempt to forcibly remount, call drive.mount(\"/content/drive/\", force_remount=True).\n"
          ]
        }
      ],
      "source": [
        "# Mount google drive\n",
        "from google.colab import drive\n",
        "drive.mount('/content/drive/')"
      ]
    },
    {
      "cell_type": "code",
      "source": [
        "# Install requirements\n",
        "!pip install -q fastapi\n",
        "!pip install -q python-multipart\n",
        "!pip install -q uvicorn\n",
        "!pip install -q nest-asyncio\n",
        "!pip install -q pyngrok\n",
        "!pip install -q langchain\n",
        "!pip install -q openai\n",
        "!pip install -q chromadb\n",
        "!pip install -q tiktoken"
      ],
      "metadata": {
        "id": "_0ewtzbc_Yw2"
      },
      "execution_count": 3,
      "outputs": []
    },
    {
      "cell_type": "code",
      "source": [
        "# Store API keys as environment variable\n",
        "import os\n",
        "from getpass import getpass\n",
        "\n",
        "os.environ['NGROK_API_KEY'] = getpass('Enter ngrok api key: ')\n",
        "os.environ['OPENAI_API_KEY'] = getpass('Enter openai api key: ')\n",
        "os.environ['SCRAPEOPS_API_KEY'] = getpass('Enter scrapeops api key: ')"
      ],
      "metadata": {
        "colab": {
          "base_uri": "https://localhost:8080/"
        },
        "id": "VdNuCQwoAV5a",
        "outputId": "d1dfad9f-de99-446a-820c-b671b17516a9"
      },
      "execution_count": 4,
      "outputs": [
        {
          "name": "stdout",
          "output_type": "stream",
          "text": [
            "Enter ngrok api key: ··········\n",
            "Enter openai api key: ··········\n",
            "Enter scrapeops api key: ··········\n"
          ]
        }
      ]
    },
    {
      "cell_type": "code",
      "source": [
        "# Add src path to system\n",
        "import sys\n",
        "sys.path.append(\"/content/drive/MyDrive/walmart_v2/ai/server\")"
      ],
      "metadata": {
        "id": "QkZmQ_xjBaX0"
      },
      "execution_count": 5,
      "outputs": []
    },
    {
      "cell_type": "code",
      "source": [
        "from pyngrok import ngrok\n",
        "import nest_asyncio\n",
        "import uvicorn\n",
        "from app.main import app"
      ],
      "metadata": {
        "id": "S_0oyA1jBm9S"
      },
      "execution_count": 6,
      "outputs": []
    },
    {
      "cell_type": "code",
      "source": [
        "# create tunnel\n",
        "ngrok.kill()\n",
        "public_url = ngrok.connect(8000)\n",
        "print(public_url)"
      ],
      "metadata": {
        "colab": {
          "base_uri": "https://localhost:8080/"
        },
        "id": "RMh8rsEkDD6N",
        "outputId": "0e8467be-6c64-4e4f-9d5f-1670544a2bb0"
      },
      "execution_count": 7,
      "outputs": [
        {
          "output_type": "stream",
          "name": "stderr",
          "text": [
            "WARNING:pyngrok.process.ngrok:t=2023-08-17T11:16:27+0000 lvl=warn msg=\"ngrok config file found at legacy location, move to XDG location\" xdg_path=/root/.config/ngrok/ngrok.yml legacy_path=/root/.ngrok2/ngrok.yml\n"
          ]
        },
        {
          "output_type": "stream",
          "name": "stdout",
          "text": [
            "NgrokTunnel: \"https://74a9-35-192-70-233.ngrok.io\" -> \"http://localhost:8000\"\n"
          ]
        }
      ]
    },
    {
      "cell_type": "code",
      "source": [
        "# check tunnel\n",
        "!ps aux | grep ngrok"
      ],
      "metadata": {
        "colab": {
          "base_uri": "https://localhost:8080/"
        },
        "id": "LiMgOp5fFLNf",
        "outputId": "a71b8220-77d4-4e94-d64a-d39583a0b839"
      },
      "execution_count": 8,
      "outputs": [
        {
          "output_type": "stream",
          "name": "stdout",
          "text": [
            "root        8570  0.0  0.2 736364 27852 ?        Rl   11:16   0:00 /usr/local/lib/python3.10/dist-packages/pyngrok/bin/ngrok start --none --log=stdout\n",
            "root        8579  0.0  0.0   7372  3456 ?        S    11:16   0:00 /bin/bash -c ps aux | grep ngrok\n",
            "root        8581  0.0  0.0   6480  2288 ?        R    11:16   0:00 grep ngrok\n"
          ]
        }
      ]
    },
    {
      "cell_type": "code",
      "source": [
        "# run the FastAPI app using uvicorn\n",
        "nest_asyncio.apply()\n",
        "uvicorn.run(app, port=8000)"
      ],
      "metadata": {
        "colab": {
          "base_uri": "https://localhost:8080/"
        },
        "id": "Av5kOZlWFy9z",
        "outputId": "be78be77-c83e-4056-c343-7cab48d11246"
      },
      "execution_count": null,
      "outputs": [
        {
          "output_type": "stream",
          "name": "stderr",
          "text": [
            "INFO:     Started server process [7373]\n",
            "INFO:     Waiting for application startup.\n",
            "INFO:     Application startup complete.\n",
            "INFO:     Uvicorn running on http://127.0.0.1:8000 (Press CTRL+C to quit)\n"
          ]
        },
        {
          "output_type": "stream",
          "name": "stdout",
          "text": [
            "INFO:     106.216.124.144:0 - \"GET /start/user/d88f9792-04c7-4837-bfa0-b00fddd9d903 HTTP/1.1\" 200 OK\n",
            "INFO:     106.216.124.144:0 - \"POST /session/b71fd28b-1dc7-4488-8ec6-bad2cdc13a04 HTTP/1.1\" 404 Not Found\n",
            "INFO:     149.154.161.237:0 - \"GET / HTTP/1.1\" 404 Not Found\n",
            "INFO:     106.216.124.144:0 - \"POST /seed/user/d88f9792-04c7-4837-bfa0-b00fddd9d903/session/b71fd28b-1dc7-4488-8ec6-bad2cdc13a04 HTTP/1.1\" 200 OK\n",
            "INFO:     106.216.124.144:0 - \"POST /reply/user/d88f9792-04c7-4837-bfa0-b00fddd9d903/session/b71fd28b-1dc7-4488-8ec6-bad2cdc13a04 HTTP/1.1\" 200 OK\n",
            "INFO:     106.195.92.16:0 - \"POST //start/user/dbvbbff HTTP/1.1\" 404 Not Found\n",
            "INFO:     106.195.92.16:0 - \"POST /start/user/dbvbbff HTTP/1.1\" 405 Method Not Allowed\n",
            "INFO:     106.195.92.16:0 - \"POST /start/user/47e92adb-3ffc-4f4c-9d50-d99b4dceebd0 HTTP/1.1\" 405 Method Not Allowed\n",
            "INFO:     106.195.92.16:0 - \"GET /start/user/47e92adb-3ffc-4f4c-9d50-d99b4dceebd0 HTTP/1.1\" 200 OK\n",
            "INFO:     106.195.92.16:0 - \"POST /seed/user/47e92adb-3ffc-4f4c-9d50-d99b4dceebd0/session/057dc5e6-8805-478f-ad17-697268148c18 HTTP/1.1\" 422 Unprocessable Entity\n",
            "INFO:     2401:4900:710c:dcf:b16f:8648:6d42:dde9:0 - \"GET /start/user/47e92adb-3ffc-4f4c-9d50-d99b4dceebd0 HTTP/1.1\" 200 OK\n",
            "INFO:     2401:4900:710c:dcf:b16f:8648:6d42:dde9:0 - \"GET /start/user/47e92adb-3ffc-4f4c-9d50-d99b4dceebd0 HTTP/1.1\" 200 OK\n"
          ]
        }
      ]
    },
    {
      "cell_type": "code",
      "source": [
        "# kill tunnel\n",
        "ngrok.disconnect(public_url=public_url)"
      ],
      "metadata": {
        "id": "9r1LqVEoHDTU"
      },
      "execution_count": null,
      "outputs": []
    },
    {
      "cell_type": "code",
      "source": [],
      "metadata": {
        "id": "jQFg11V-Ky2D"
      },
      "execution_count": null,
      "outputs": []
    }
  ]
}